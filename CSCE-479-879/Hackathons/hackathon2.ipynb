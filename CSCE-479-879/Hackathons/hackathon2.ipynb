{
 "cells": [
  {
   "cell_type": "markdown",
   "metadata": {},
   "source": [
    "# CSCE 479/879 Hackathon: Dense Layers, Minibatch Training, and Train/Test Splits\n",
    "\n",
    "Written by Eleanor Quint\n",
    "\n",
    "Modified by Mrinal Rawool and Stephen Scott\n",
    "\n",
    "Topics: \n",
    "- Dense layers\n",
    "- Training by minibatch/gradient step and epoch\n",
    "- Splitting the dataset into train/validation\n",
    "\n",
    "This is all setup in a IPython notebook so you can run any code you want to experiment with. Feel free to edit any cell, or add some to run your own code."
   ]
  },
  {
   "cell_type": "code",
   "execution_count": 1,
   "metadata": {},
   "outputs": [],
   "source": [
    "%matplotlib inline\n",
    "# We'll start with our library imports...\n",
    "from __future__ import print_function\n",
    "\n",
    "import numpy as np                 # to use numpy arrays\n",
    "import tensorflow as tf            # to specify and run computation graphs\n",
    "import tensorflow_datasets as tfds # to load training data\n",
    "import matplotlib.pyplot as plt    # to visualize data and draw plots\n",
    "from tqdm import tqdm              # to track progress of loops\n",
    "\n",
    "DATA_DIR = './tensorflow-datasets/'"
   ]
  },
  {
   "cell_type": "markdown",
   "metadata": {},
   "source": [
    "#### Preparing the dataset\n",
    "\n",
    "1. Acquire the dataset\n",
    "2. Examine elements, splits\n",
    "3. General rule for model training: train on train_ds, monitor train perf on valid_ds, report final model perf on test_ds"
   ]
  },
  {
   "cell_type": "markdown",
   "metadata": {},
   "source": [
    "### A First Attempt at Classifying MNIST\n",
    "\n",
    "MNIST is a dataset of greyscale 28x28 handwritten digits labelled 0 through 9. We'll use it for a 10-class problem to learn the basics of classification.\n",
    "\n",
    "Let's have a look at the data first. We'll load the data from [Tensorflow Datasets](https://www.tensorflow.org/datasets) and visualize it with matplotlib's `plt.imshow`."
   ]
  },
  {
   "cell_type": "code",
   "execution_count": 3,
   "metadata": {},
   "outputs": [],
   "source": [
    "ds = tfds.load('mnist', data_dir=DATA_DIR, shuffle_files=True) # this loads a dict with the datasets"
   ]
  },
  {
   "cell_type": "code",
   "execution_count": 4,
   "metadata": {},
   "outputs": [
    {
     "name": "stdout",
     "output_type": "stream",
     "text": [
      "<class 'dict'>\n"
     ]
    }
   ],
   "source": [
    "print(type(ds))"
   ]
  },
  {
   "cell_type": "code",
   "execution_count": 5,
   "metadata": {},
   "outputs": [
    {
     "name": "stdout",
     "output_type": "stream",
     "text": [
      "dict_keys(['test', 'train'])\n"
     ]
    }
   ],
   "source": [
    "print(ds.keys())"
   ]
  },
  {
   "cell_type": "code",
   "execution_count": 6,
   "metadata": {},
   "outputs": [
    {
     "name": "stdout",
     "output_type": "stream",
     "text": [
      "<class 'tensorflow.python.data.ops.dataset_ops._OptionsDataset'>\n"
     ]
    }
   ],
   "source": [
    "print(type(ds['train']))"
   ]
  },
  {
   "cell_type": "code",
   "execution_count": 7,
   "metadata": {},
   "outputs": [],
   "source": [
    "# We can create an iterator from each dataset\n",
    "# This one iterates through the train data, shuffling and minibatching by 32\n",
    "train_ds = ds['train'].shuffle(1024).batch(32) \n",
    "# TODO: change 32 to 64 and check the shape of the batch\n",
    "# shuffle(buffer size)"
   ]
  },
  {
   "cell_type": "markdown",
   "metadata": {
    "tags": []
   },
   "source": [
    "#### Splitting the dataset into train/validation\n",
    "\n",
    "After one epoch of training the loss values drop dramatically and accuracy rises from change (\\~10%) to that of a decent classifier (\\~85-90%). In practice we want to train for many epochs and use the set of parameters which gives the lowest validation error. Unfortunately, we don't know which set of parameters is best because we're training on all the data. Before training, we should split the training dataset into a train set, which will be used for parameter updates, and a validation set, which will not. Then, we can determine which parameters generalise best by calculating the accuracy on the hold-out validation set. The parameters with the highest accuracy on validation will likely generalise the best.\n",
    "\n",
    "The easiest way to do this is with TensorFlow Datasets is to use their string indexing notation when loading the datasets."
   ]
  },
  {
   "cell_type": "code",
   "execution_count": null,
   "metadata": {},
   "outputs": [],
   "source": [
    "# The first 90% of the training data\n",
    "# Use this data for the training loop\n",
    "train = tfds.load('mnist', split='train[:90%]', data_dir=DATA_DIR)\n",
    "\n",
    "# And the last 10%, we'll hold out as the validation set\n",
    "# Notice the python-style indexing, but in a string and with percentages\n",
    "# After the training loop, run another loop over this data without the gradient updates to calculate accuracy\n",
    "validation = tfds.load('mnist', split='train[-10%:]', data_dir=DATA_DIR)"
   ]
  },
  {
   "cell_type": "markdown",
   "metadata": {},
   "source": [
    "#### Exploring the dataset"
   ]
  },
  {
   "cell_type": "code",
   "execution_count": 12,
   "metadata": {},
   "outputs": [
    {
     "name": "stdout",
     "output_type": "stream",
     "text": [
      "data shape: (32, 28, 28, 1)\n",
      "label: tf.Tensor([9 3 3 8 6 9 3 9 1 1 6 4 7 1 5 9 8 0 2 3 9 2 4 7 4 6 9 9 5 3 6 4], shape=(32,), dtype=int64)\n"
     ]
    },
    {
     "name": "stderr",
     "output_type": "stream",
     "text": [
      "2024-02-05 12:15:38.679981: W tensorflow/core/kernels/data/cache_dataset_ops.cc:768] The calling iterator did not fully read the dataset being cached. In order to avoid unexpected truncation of the dataset, the partially cached contents of the dataset  will be discarded. This can happen if you have an input pipeline similar to `dataset.cache().take(k).repeat()`. You should use `dataset.take(k).cache().repeat()` instead.\n"
     ]
    }
   ],
   "source": [
    "# Looping through the iterator, each batch is a dict\n",
    "for batch in train_ds:\n",
    "    # The first dimension in the shape is the batch dimension\n",
    "    # The second and third dimensions are height and width\n",
    "    # Being greyscale means that the image has one channel, the last dimension in the shape\n",
    "    print(\"data shape:\", batch['image'].shape)\n",
    "    print(\"label:\", batch['label'])\n",
    "    break"
   ]
  },
  {
   "cell_type": "code",
   "execution_count": 18,
   "metadata": {},
   "outputs": [],
   "source": [
    "# visualize some of the data\n",
    "idx = np.random.randint(batch['image'].shape[0])"
   ]
  },
  {
   "cell_type": "code",
   "execution_count": 19,
   "metadata": {},
   "outputs": [
    {
     "data": {
      "text/plain": [
       "<matplotlib.image.AxesImage at 0x149540fa2910>"
      ]
     },
     "execution_count": 19,
     "metadata": {},
     "output_type": "execute_result"
    },
    {
     "data": {
      "image/png": "[encoded data removed]",
      "text/plain": [
       "<Figure size 640x480 with 2 Axes>"
      ]
     },
     "metadata": {},
     "output_type": "display_data"
    }
   ],
   "source": [
    "f, axarr = plt.subplots(nrows=1, ncols=2, sharey=True)\n",
    "axarr[0].imshow(batch['image'][idx]) # It's colored because matplotlib wants to provide more contrast than just greys\n",
    "axarr[1].imshow(batch['image'][idx], cmap='gray')"
   ]
  },
  {
   "cell_type": "markdown",
   "metadata": {},
   "source": [
    "#### Dense layers\n",
    "\n",
    "The first step to building a simple neural network is to specify layers. The most basic building block is the dense layer (AKA linear layer or fully connected layer), so we'll declare a function that creates the layer. Each dense layer is composed of two variables, the weight matrix `W` and the bias vector `b` as well as a non-linear activation function `a`, to calculate the function `f(x) = a(Wx + b)`.\n",
    "\n",
    "Normally we'll use pre-defined layers, but in this notebook we'll do it ourselves first to better understand what's going on under the hood."
   ]
  },
  {
   "cell_type": "code",
   "execution_count": 23,
   "metadata": {},
   "outputs": [],
   "source": [
    "class Dense(tf.Module):\n",
    "    def __init__(self, output_size, activation=tf.nn.relu):\n",
    "        \"\"\"\n",
    "        Args:\n",
    "            - output_size: (int) number of neurons\n",
    "            - activation: (function) non-linear function applied to the output\n",
    "        \"\"\"\n",
    "        self.output_size = output_size\n",
    "        self.activation = activation\n",
    "        self.is_built = False\n",
    "        \n",
    "    def _build(self, x):\n",
    "        data_size = x.shape[-1]\n",
    "        self.W = tf.Variable(tf.random.normal([data_size, self.output_size]), name='weights')\n",
    "        self.b = tf.Variable(tf.random.normal([self.output_size]), name='bias')\n",
    "        self.is_built = True\n",
    "\n",
    "    def __call__(self, x):\n",
    "        if not self.is_built:\n",
    "            self._build(x)\n",
    "        return self.activation(tf.matmul(x, self.W) + self.b)"
   ]
  },
  {
   "cell_type": "markdown",
   "metadata": {},
   "source": [
    "The first dimension of the input is the \"batch\" dimension, which allows us to run many data through the model simultaneously. The matrix `W` has a row for each input dimension so that each column corresponds to the weights of one linear unit of the layer. After adding the bias vector to the vector resulting from the vector-matrix multiplication, we activate with a non-linearity.\n",
    "\n",
    "Let's define a simple, two layer network with this function. We activate the first layer with the rectified linear function [`tf.nn.relu`](https://www.tensorflow.org/api_docs/python/tf/nn/relu), but not the second layer so that we can interpret its output as the [logits](https://stackoverflow.com/questions/41455101/what-is-the-meaning-of-the-word-logits-in-tensorflow) of a discrete probability distribution. Note that we're going to flatten the data into a vector (784 = 28 x 28) so that we can use it with a linear layer (we encountered `tf.reshape` in the last hackathon). Loss is calculated with [cross entropy](https://en.wikipedia.org/wiki/Cross_entropy), which implies that we're interpreting the output of the neural network as the paramters of a [categorical distribution](https://en.wikipedia.org/wiki/Categorical_distribution).\n",
    "\n",
    "Further, we'll train with minibatches of data with the for loop (using tqdm for a progress bar). We run the data forward in each minibatch, calculate the loss using the output logits and correct label, calculate gradients, and finally backprop gradients using the optimizer.apply_gradients() function."
   ]
  },
  {
   "cell_type": "markdown",
   "metadata": {},
   "source": [
    "#### Stepping into the code\n",
    "\n",
    "- We use batch size =1 i.e single image\n",
    "- pass it through the network (2-layer model) "
   ]
  },
  {
   "cell_type": "code",
   "execution_count": 27,
   "metadata": {
    "tags": []
   },
   "outputs": [
    {
     "data": {
      "text/plain": [
       "<tf.Tensor: shape=(5, 5, 1), dtype=uint8, numpy=\n",
       "array([[[252],\n",
       "        [163],\n",
       "        [ 38],\n",
       "        [  0],\n",
       "        [  0]],\n",
       "\n",
       "       [[253],\n",
       "        [255],\n",
       "        [228],\n",
       "        [ 44],\n",
       "        [  0]],\n",
       "\n",
       "       [[221],\n",
       "        [253],\n",
       "        [252],\n",
       "        [187],\n",
       "        [  7]],\n",
       "\n",
       "       [[150],\n",
       "        [253],\n",
       "        [252],\n",
       "        [252],\n",
       "        [116]],\n",
       "\n",
       "       [[249],\n",
       "        [253],\n",
       "        [252],\n",
       "        [252],\n",
       "        [240]]], dtype=uint8)>"
      ]
     },
     "execution_count": 27,
     "metadata": {},
     "output_type": "execute_result"
    }
   ],
   "source": [
    "sample_img = batch['image'][idx] # examine raw image values. Notce the data type\n",
    "sample_img[15:20,15:20]"
   ]
  },
  {
   "cell_type": "code",
   "execution_count": 21,
   "metadata": {
    "tags": []
   },
   "outputs": [
    {
     "data": {
      "text/plain": [
       "<tf.Tensor: shape=(), dtype=int64, numpy=3>"
      ]
     },
     "execution_count": 21,
     "metadata": {},
     "output_type": "execute_result"
    }
   ],
   "source": [
    "sample_lbl = batch['label'][idx]\n",
    "sample_lbl"
   ]
  },
  {
   "cell_type": "code",
   "execution_count": 28,
   "metadata": {
    "tags": []
   },
   "outputs": [
    {
     "data": {
      "text/plain": [
       "<tf.Tensor: shape=(5, 5, 1), dtype=float32, numpy=\n",
       "array([[[0.9882353 ],\n",
       "        [0.6392157 ],\n",
       "        [0.14901961],\n",
       "        [0.        ],\n",
       "        [0.        ]],\n",
       "\n",
       "       [[0.99215686],\n",
       "        [1.        ],\n",
       "        [0.89411765],\n",
       "        [0.17254902],\n",
       "        [0.        ]],\n",
       "\n",
       "       [[0.8666667 ],\n",
       "        [0.99215686],\n",
       "        [0.9882353 ],\n",
       "        [0.73333335],\n",
       "        [0.02745098]],\n",
       "\n",
       "       [[0.5882353 ],\n",
       "        [0.99215686],\n",
       "        [0.9882353 ],\n",
       "        [0.9882353 ],\n",
       "        [0.45490196]],\n",
       "\n",
       "       [[0.9764706 ],\n",
       "        [0.99215686],\n",
       "        [0.9882353 ],\n",
       "        [0.9882353 ],\n",
       "        [0.9411765 ]]], dtype=float32)>"
      ]
     },
     "execution_count": 28,
     "metadata": {},
     "output_type": "execute_result"
    }
   ],
   "source": [
    "sample_img = tf.cast(sample_img, tf.float32)/255.0 # normalizing image values\n",
    "sample_img[15:20,15:20]"
   ]
  },
  {
   "cell_type": "code",
   "execution_count": 24,
   "metadata": {},
   "outputs": [],
   "source": [
    "first_layer = Dense(200) # local Dense. Standard TF Dense class is tf.keras.layers.Dense()\n",
    "second_layer = Dense(10)"
   ]
  },
  {
   "cell_type": "code",
   "execution_count": 29,
   "metadata": {},
   "outputs": [
    {
     "name": "stdout",
     "output_type": "stream",
     "text": [
      "Before:  (28, 28, 1)\n",
      "After:  (1, 784)\n"
     ]
    }
   ],
   "source": [
    "print(\"Before: \", sample_img.shape)\n",
    "sample_img = tf.reshape(sample_img, [-1, 784])\n",
    "print(\"After: \", sample_img.shape)"
   ]
  },
  {
   "cell_type": "code",
   "execution_count": 30,
   "metadata": {},
   "outputs": [
    {
     "data": {
      "text/plain": [
       "TensorShape([1, 200])"
      ]
     },
     "execution_count": 30,
     "metadata": {},
     "output_type": "execute_result"
    }
   ],
   "source": [
    "fl_op = first_layer(sample_img) # batch size = 1\n",
    "fl_op.shape"
   ]
  },
  {
   "cell_type": "code",
   "execution_count": 31,
   "metadata": {},
   "outputs": [
    {
     "data": {
      "text/plain": [
       "<tf.Tensor: shape=(10,), dtype=float32, numpy=\n",
       "array([20.731482 ,  0.       ,  1.554097 ,  8.62453  ,  0.       ,\n",
       "        0.       ,  0.       ,  0.5419766,  0.       , 16.870516 ],\n",
       "      dtype=float32)>"
      ]
     },
     "execution_count": 31,
     "metadata": {},
     "output_type": "execute_result"
    }
   ],
   "source": [
    "fl_op[0, :10]"
   ]
  },
  {
   "cell_type": "code",
   "execution_count": 32,
   "metadata": {},
   "outputs": [
    {
     "data": {
      "text/plain": [
       "TensorShape([1, 10])"
      ]
     },
     "execution_count": 32,
     "metadata": {},
     "output_type": "execute_result"
    }
   ],
   "source": [
    "sl_op = second_layer(fl_op)\n",
    "sl_op.shape"
   ]
  },
  {
   "cell_type": "code",
   "execution_count": 35,
   "metadata": {},
   "outputs": [
    {
     "data": {
      "text/plain": [
       "<tf.Tensor: shape=(1, 10), dtype=float32, numpy=\n",
       "array([[ 0.       ,  0.       ,  0.       ,  0.       ,  2.7661428,\n",
       "         0.       , 66.65524  ,  0.       ,  0.       ,  0.       ]],\n",
       "      dtype=float32)>"
      ]
     },
     "execution_count": 35,
     "metadata": {},
     "output_type": "execute_result"
    }
   ],
   "source": [
    "sl_op \n",
    "# Logits are the unnormalized probabilities of the item belonging to a certain class. "
   ]
  },
  {
   "cell_type": "code",
   "execution_count": 43,
   "metadata": {},
   "outputs": [
    {
     "name": "stdout",
     "output_type": "stream",
     "text": [
      "tf.Tensor(\n",
      "[[1.1271866e-29 1.1271866e-29 1.1271866e-29 1.1271866e-29 1.7919125e-28\n",
      "  1.1271866e-29 1.0000000e+00 1.1271866e-29 1.1271866e-29 1.1271866e-29]], shape=(1, 10), dtype=float32)\n",
      "\n",
      "Sum of label probabilities is  1.0\n"
     ]
    }
   ],
   "source": [
    "probabilities = tf.nn.softmax(sl_op)\n",
    "print(probabilities)\n",
    "print(\"\")\n",
    "print(\"Sum of label probabilities is \", tf.reduce_sum(probabilities).numpy())"
   ]
  },
  {
   "cell_type": "code",
   "execution_count": 52,
   "metadata": {},
   "outputs": [
    {
     "data": {
      "text/plain": [
       "6"
      ]
     },
     "execution_count": 52,
     "metadata": {},
     "output_type": "execute_result"
    }
   ],
   "source": [
    "sample_pred_logits = tf.argmax(sl_op, axis=1)\n",
    "sample_pred_logits[0].numpy()"
   ]
  },
  {
   "cell_type": "code",
   "execution_count": 53,
   "metadata": {},
   "outputs": [
    {
     "data": {
      "text/plain": [
       "6"
      ]
     },
     "execution_count": 53,
     "metadata": {},
     "output_type": "execute_result"
    }
   ],
   "source": [
    "sample_pred_proba = tf.argmax(probabilities, axis=1)\n",
    "sample_pred_proba[0].numpy()"
   ]
  },
  {
   "cell_type": "code",
   "execution_count": 51,
   "metadata": {},
   "outputs": [
    {
     "data": {
      "text/plain": [
       "3"
      ]
     },
     "execution_count": 51,
     "metadata": {},
     "output_type": "execute_result"
    }
   ],
   "source": [
    "sample_lbl.numpy()"
   ]
  },
  {
   "cell_type": "code",
   "execution_count": 54,
   "metadata": {},
   "outputs": [
    {
     "name": "stdout",
     "output_type": "stream",
     "text": [
      "Is sample == label?  tf.Tensor(False, shape=(), dtype=bool)\n",
      "\n",
      "Converting Bool to Float to allow summation:  tf.Tensor(0.0, shape=(), dtype=float32)\n",
      "\n",
      "Accuracy over batch of 1 image:  0.0\n"
     ]
    }
   ],
   "source": [
    "# accuracy calc\n",
    "print(\"Is sample == label? \", tf.equal(sample_pred_logits[0], sample_lbl))\n",
    "print(\"\\nConverting Bool to Float to allow summation: \", tf.cast(tf.equal(sample_pred_logits[0], sample_lbl), tf.float32))\n",
    "# accuracy for batch size 1/ one image\n",
    "print(\"\\nAccuracy over batch of 1 image: \", tf.reduce_mean(tf.cast(tf.equal(sample_pred_logits[0], sample_lbl), tf.float32)).numpy())"
   ]
  },
  {
   "cell_type": "code",
   "execution_count": 59,
   "metadata": {},
   "outputs": [
    {
     "data": {
      "text/plain": [
       "66.65524"
      ]
     },
     "execution_count": 59,
     "metadata": {},
     "output_type": "execute_result"
    }
   ],
   "source": [
    "# Loss calc\n",
    "\n",
    "# Measures the probability error in discrete classification tasks in which the \n",
    "# classes are mutually exclusive (each entry is in exactly one class).\n",
    "\n",
    "# This op expects unscaled logits, since it performs a softmax on logits internally for efficiency. \n",
    "# Do not call this op with the output of softmax, as it will produce incorrect results.\n",
    "\n",
    "sample_loss = tf.nn.sparse_softmax_cross_entropy_with_logits(logits=sl_op[0], labels=sample_lbl)\n",
    "sample_loss.numpy()"
   ]
  },
  {
   "cell_type": "code",
   "execution_count": 78,
   "metadata": {},
   "outputs": [
    {
     "name": "stderr",
     "output_type": "stream",
     "text": [
      "  0%|          | 0/1875 [00:00<?, ?it/s]"
     ]
    },
    {
     "name": "stdout",
     "output_type": "stream",
     "text": [
      "After reshaping input batch (32, 784)\n",
      "Label shape:  (32,)\n",
      "FL output shape:  (32, 200)\n",
      "SL output shape:  (32, 10)\n",
      "Loss shape:  (32,)\n",
      "Loss values shape:  1\n",
      "predictions:  (32,)\n",
      "accuracy:  (32,)\n",
      "Accuracy values shape:  1\n",
      "=================\n",
      "tf.Tensor([8 7 9 9 6 4 3 9 5 6 4 4 6 8 4 6 6 2 4 8 8 3 4 7 7 7 9 2 8 7 9 4], shape=(32,), dtype=int64)\n",
      "tf.Tensor([9 2 3 4 5 9 5 5 5 2 3 3 5 9 9 5 4 5 3 5 9 1 5 5 5 4 9 5 5 5 3 5], shape=(32,), dtype=int64)\n",
      "Batch accuracy:  0.0625\n",
      "\n",
      "Num. correct preds= 2.0, After dividing by batch size 32: 0.0625 \n"
     ]
    },
    {
     "name": "stderr",
     "output_type": "stream",
     "text": [
      "\n"
     ]
    }
   ],
   "source": [
    "first_layer = Dense(200)\n",
    "second_layer = Dense(10)\n",
    "\n",
    "loss_values = []\n",
    "accuracy_values = []\n",
    "\n",
    "for batch in tqdm(train_ds):\n",
    "    # run network\n",
    "    x = tf.reshape(tf.cast(batch['image'], tf.float32)/255., [-1, 784]) # -1 means everyting not otherwise accounted for\n",
    "    print(\"After reshaping input batch\", x.shape)\n",
    "    labels = batch['label']\n",
    "    print(\"Label shape: \", labels.shape)\n",
    "    x = first_layer(x)\n",
    "    print(\"FL output shape: \", x.shape)\n",
    "    logits = second_layer(x)\n",
    "    print(\"SL output shape: \", logits.shape)\n",
    "    \n",
    "    # calculate loss\n",
    "    loss = tf.nn.sparse_softmax_cross_entropy_with_logits(logits=logits, labels=labels)\n",
    "    print(\"Loss shape: \", loss.shape)\n",
    "    loss_values.append(loss)\n",
    "    print(\"Loss values shape: \", len(loss_values))\n",
    "    \n",
    "    # calculate accuracy\n",
    "    predictions = tf.argmax(logits, axis=1)\n",
    "    print(\"predictions: \", predictions.shape)\n",
    "    accuracy = tf.reduce_mean(tf.cast(tf.equal(predictions, labels), tf.float32))\n",
    "    print(\"accuracy: \", predictions.shape)\n",
    "    accuracy_values.append(accuracy)\n",
    "    print(\"Accuracy values shape: \", len(accuracy_values))\n",
    "    \n",
    "    print(\"=================\")\n",
    "    print(labels)\n",
    "    print(predictions)\n",
    "    print(\"Batch accuracy: \", np.mean(accuracy_values)) # 0.125*32 = 4\n",
    "    correct_preds = tf.math.reduce_sum(tf.cast(tf.equal(labels, predictions), tf.float32)).numpy()\n",
    "    print(\"\\nNum. correct preds= {}, After dividing by batch size 32: {} \".format(correct_preds, correct_preds/32.0 ))\n",
    "    \n",
    "    break"
   ]
  },
  {
   "cell_type": "markdown",
   "metadata": {},
   "source": [
    "#### Orig code: Running batch through a small two layer model\n",
    "\n",
    "- Only forward pass\n",
    "- Only one batch = 32 images"
   ]
  },
  {
   "cell_type": "code",
   "execution_count": 61,
   "metadata": {},
   "outputs": [
    {
     "name": "stderr",
     "output_type": "stream",
     "text": [
      "100%|██████████| 1875/1875 [00:01<00:00, 1005.66it/s]\n"
     ]
    },
    {
     "name": "stdout",
     "output_type": "stream",
     "text": [
      "Number of batches parsed:  1875\n",
      "Accuracy: 0.14096667\n"
     ]
    },
    {
     "data": {
      "image/png": "[encoded data removed]",
      "text/plain": [
       "<Figure size 640x480 with 1 Axes>"
      ]
     },
     "metadata": {},
     "output_type": "display_data"
    }
   ],
   "source": [
    "first_layer = Dense(200)\n",
    "second_layer = Dense(10)\n",
    "\n",
    "loss_values = []\n",
    "accuracy_values = []\n",
    "# Loop through one epoch of data\n",
    "for batch in tqdm(train_ds):\n",
    "    # run network\n",
    "    x = tf.reshape(tf.cast(batch['image'], tf.float32), [-1, 784]) # -1 means everyting not otherwise accounted for\n",
    "    labels = batch['label']\n",
    "    x = first_layer(x)\n",
    "    logits = second_layer(x)\n",
    "    \n",
    "    # calculate loss\n",
    "    loss = tf.nn.sparse_softmax_cross_entropy_with_logits(logits=logits, labels=labels)\n",
    "    loss_values.append(loss)\n",
    "    \n",
    "    # calculate accuracy\n",
    "    predictions = tf.argmax(logits, axis=1)\n",
    "    accuracy = tf.reduce_mean(tf.cast(tf.equal(predictions, labels), tf.float32))\n",
    "    accuracy_values.append(accuracy)\n",
    "    \n",
    "    \n",
    "print(\"Number of batches parsed: \", len(loss_values))\n",
    "\n",
    "# print accuracy\n",
    "print(\"Accuracy:\", np.mean(accuracy_values))\n",
    "# plot per-datum loss\n",
    "loss_values = np.concatenate(loss_values)\n",
    "plt.hist(loss_values, density=True, bins=30)\n",
    "plt.show()"
   ]
  },
  {
   "cell_type": "markdown",
   "metadata": {
    "tags": []
   },
   "source": [
    "#### Training by minibatch/gradient step and epoch\n",
    "\n",
    "Now let's re-declare the network with pre-defined layers using [`tf.keras.layers.Dense`](https://www.tensorflow.org/api_docs/python/tf/keras/layers/Dense), group the layers using [`tf.keras.Sequential`](https://www.tensorflow.org/api_docs/python/tf/keras/Sequential), and training the parameters with the [`Adam`](https://www.tensorflow.org/api_docs/python/tf/keras/optimizers/Adam) optimizer.\n",
    "\n",
    "Note how [`tf.GradientTape`](https://www.tensorflow.org/guide/autodiff) is used. We run all the computations which we want to backpropagate gradients through in the scope of the tape and then, after the loss is calculated, we can call `tape.gradient` to calculate the gradient of the output with respect to the model variables."
   ]
  },
  {
   "cell_type": "code",
   "execution_count": 79,
   "metadata": {},
   "outputs": [
    {
     "name": "stderr",
     "output_type": "stream",
     "text": [
      "100%|██████████| 1875/1875 [00:06<00:00, 292.84it/s]\n"
     ]
    },
    {
     "name": "stdout",
     "output_type": "stream",
     "text": [
      "Model: \"sequential\"\n",
      "_________________________________________________________________\n",
      "Layer (type)                 Output Shape              Param #   \n",
      "=================================================================\n",
      "dense (Dense)                (32, 200)                 157000    \n",
      "_________________________________________________________________\n",
      "dense_1 (Dense)              (32, 10)                  2010      \n",
      "=================================================================\n",
      "Total params: 159,010\n",
      "Trainable params: 159,010\n",
      "Non-trainable params: 0\n",
      "_________________________________________________________________\n",
      "None\n",
      "Accuracy: 0.9321167\n"
     ]
    },
    {
     "data": {
      "image/png": "[encoded data removed]",
      "text/plain": [
       "<Figure size 640x480 with 1 Axes>"
      ]
     },
     "metadata": {},
     "output_type": "display_data"
    }
   ],
   "source": [
    "# using Sequential groups all the layers to run at once\n",
    "model = tf.keras.Sequential()\n",
    "model.add(tf.keras.layers.Dense(200, tf.nn.relu))\n",
    "model.add(tf.keras.layers.Dense(10))\n",
    "optimizer = tf.keras.optimizers.Adam()\n",
    "\n",
    "loss_values = []\n",
    "accuracy_values = []\n",
    "# Loop through one epoch of data\n",
    "for epoch in range(1):\n",
    "    for batch in tqdm(train_ds):\n",
    "        with tf.GradientTape() as tape:\n",
    "            # run network\n",
    "            x = tf.reshape(tf.cast(batch['image'], tf.float32)/255.0, [-1, 784])\n",
    "            labels = batch['label']\n",
    "            logits = model(x)\n",
    "\n",
    "            # calculate loss\n",
    "            loss = tf.nn.sparse_softmax_cross_entropy_with_logits(logits=logits, labels=labels)    \n",
    "        loss_values.append(loss)\n",
    "    \n",
    "        # gradient update\n",
    "        grads = tape.gradient(loss, model.trainable_variables)\n",
    "        optimizer.apply_gradients(zip(grads, model.trainable_variables))\n",
    "    \n",
    "        # calculate accuracy\n",
    "        predictions = tf.argmax(logits, axis=1)\n",
    "        accuracy = tf.reduce_mean(tf.cast(tf.equal(predictions, labels), tf.float32))\n",
    "        accuracy_values.append(accuracy)\n",
    "\n",
    "print(model.summary())\n",
    "    \n",
    "# accuracy\n",
    "print(\"Accuracy:\", np.mean(accuracy_values))\n",
    "# plot per-datum loss\n",
    "loss_values = np.concatenate(loss_values)\n",
    "plt.hist(loss_values, density=True, bins=30)\n",
    "plt.show()"
   ]
  },
  {
   "cell_type": "markdown",
   "metadata": {},
   "source": [
    "### Homework\n",
    "\n",
    "Your homework is \n",
    "- to specify a network with `tf.keras.layers`, \n",
    "- train it on the MNIST dataset (as above, but with train/validation split), \n",
    "- use val split to avoid overfitting/ monitor training perf\n",
    "- use test split to report final model perf on unseen data\n",
    "- and try out 2 or 3 variations of different architectures. \n",
    "    - I.e., change the number of neurons or layers, \n",
    "    - change the activation function (you can find more in the documentation at [`tf.nn` (https://www.tensorflow.org/api_docs/python/tf/nn)), or even change the optimizer ([`tf.keras.optimizers`](https://www.tensorflow.org/api_docs/python/tf/keras/optimizers)). \n",
    "    \n",
    "Write up a paragraph or two with your observations. E.g., \n",
    "- how did it affect the final accuracy on the validation data? \n",
    "- How did it affect the rate at which the model improved? Remember to add early stopping and increase the number of training epochs. \n",
    "\n",
    "**Submit a `.pdf` with the writeup and `.py` with the code.**\n",
    "\n",
    "I'm expecting this to take about an hour (or less if you're experienced). Feel free to use any code from this or previous hackathons. If you don't understand how to do any part of this or if it's taking you longer than that, please let me know in office hours or by email (both can be found on the syllabus). I'm also happy to discuss if you just want to ask more questions about anything in this notebook!\n",
    "\n",
    "### Coda"
   ]
  },
  {
   "cell_type": "code",
   "execution_count": null,
   "metadata": {},
   "outputs": [],
   "source": [
    "from IPython.display import HTML\n",
    "# From Colah's Blog, linearly separating spirals with linear transforms and non-linearities\n",
    "# How does a neural network separate entangled data?\n",
    "print(\"We want the blue and red lines to be linearly separable, so how does a neural network manage to do this?\\\n",
    " Let's visualize the linear transformations and non-linearities.\")\n",
    "HTML('<img src=\"http://colah.github.io/posts/2014-03-NN-Manifolds-Topology/img/spiral.1-2.2-2-2-2-2-2.gif\">')"
   ]
  }
 ],
 "metadata": {
  "kernelspec": {
   "display_name": "NLP (tensorflow-env)",
   "language": "python",
   "name": "tensorflow-env"
  },
  "language_info": {
   "codemirror_mode": {
    "name": "ipython",
    "version": 3
   },
   "file_extension": ".py",
   "mimetype": "text/x-python",
   "name": "python",
   "nbconvert_exporter": "python",
   "pygments_lexer": "ipython3",
   "version": "3.9.7"
  }
 },
 "nbformat": 4,
 "nbformat_minor": 4
}
